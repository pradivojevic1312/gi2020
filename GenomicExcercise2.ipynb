{
 "cells": [
  {
   "cell_type": "code",
   "execution_count": 18,
   "metadata": {},
   "outputs": [
    {
     "name": "stdout",
     "output_type": "stream",
     "text": [
      "Flags: 1187\n",
      "\n",
      "Flags set to true:\n",
      "read paired=True\n",
      "read mapped in proper pair=True\n",
      "mate reverse strand=True\n",
      "second in pair=True\n",
      "read is PCR or optical duplicate=True\n",
      "\n",
      "How many unmapped reads are in the file? 17765\n",
      "Total number of reads: 2921629\n",
      "Number of reads with mapping quality 0: 126628\n",
      "Average mapping quality for all the reads: 55.91379158681681\n",
      "Average mapping quality if reads with 0 mapp quality are filtered out: 58.446975510921106\n"
     ]
    }
   ],
   "source": [
    "import pysam\n",
    "\n",
    "alignmentFile = pysam.AlignmentFile(\"/sbgenomics/project-files/merged-tumor.bam\")\n",
    "\n",
    "firstRead = pysam.AlignedSegment\n",
    "totalNumOfReads = 0\n",
    "unmappedReads = 0\n",
    "readsWithZeroMapping = 0\n",
    "totalQuality = 0\n",
    "avgQuality = 0\n",
    "avgQualityFiltered = 0\n",
    "\n",
    "for read in alignmentFile:\n",
    "    if totalNumOfReads == 0:\n",
    "        firstRead = read    \n",
    "    totalNumOfReads += 1    \n",
    "    if read.is_unmapped:\n",
    "        unmappedReads += 1\n",
    "    if read.mapping_quality == 0:\n",
    "        readsWithZeroMapping +=1\n",
    "    totalQuality += read.mapping_quality\n",
    "\n",
    "print(\"Flags: \" + str(firstRead.flag)+\"\\n\")\n",
    "print(\"Flags set to true:\")\n",
    "print(\"read paired=\" + str(firstRead.is_paired))\n",
    "print(\"read mapped in proper pair=\" + str(firstRead.is_proper_pair))\n",
    "print(\"mate reverse strand=\" + str(firstRead.mate_is_reverse))\n",
    "print(\"second in pair=\" + str(firstRead.is_read2))\n",
    "print(\"read is PCR or optical duplicate=\" + str(firstRead.is_duplicate)+\"\\n\")\n",
    "\n",
    "avgQuality = totalQuality / totalNumOfReads\n",
    "avgQualityFiltered = totalQuality / (totalNumOfReads - readsWithZeroMapping)\n",
    "\n",
    "print(\"How many unmapped reads are in the file? \" + str(unmappedReads))\n",
    "print(\"Total number of reads: \" + str(totalNumOfReads))\n",
    "print(\"Number of reads with mapping quality 0: \" + str(readsWithZeroMapping))\n",
    "print(\"Average mapping quality for all the reads: \" + str(avgQuality))\n",
    "print(\"Average mapping quality if reads with 0 mapp quality are filtered out: \" + str(avgQualityFiltered))"
   ]
  }
 ],
 "metadata": {
  "kernelspec": {
   "display_name": "Python 3",
   "language": "python",
   "name": "python3"
  },
  "language_info": {
   "codemirror_mode": {
    "name": "ipython",
    "version": 3
   },
   "file_extension": ".py",
   "mimetype": "text/x-python",
   "name": "python",
   "nbconvert_exporter": "python",
   "pygments_lexer": "ipython3",
   "version": "3.6.3"
  }
 },
 "nbformat": 4,
 "nbformat_minor": 2
}
